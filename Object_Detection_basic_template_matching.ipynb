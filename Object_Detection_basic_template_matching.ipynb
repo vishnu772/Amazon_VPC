{
  "nbformat": 4,
  "nbformat_minor": 0,
  "metadata": {
    "colab": {
      "name": "Object_Detection_basic_template_matching.ipynb",
      "version": "0.3.2",
      "provenance": [],
      "include_colab_link": true
    },
    "kernelspec": {
      "name": "python3",
      "display_name": "Python 3"
    }
  },
  "cells": [
    {
      "cell_type": "markdown",
      "metadata": {
        "id": "view-in-github",
        "colab_type": "text"
      },
      "source": [
        "<a href=\"https://colab.research.google.com/github/vishnu772/Amazon_VPC/blob/master/Object_Detection_basic_template_matching.ipynb\" target=\"_parent\"><img src=\"https://colab.research.google.com/assets/colab-badge.svg\" alt=\"Open In Colab\"/></a>"
      ]
    },
    {
      "metadata": {
        "id": "N0WBPJ1c7Zvl",
        "colab_type": "text"
      },
      "cell_type": "markdown",
      "source": [
        "Object Detection Basics"
      ]
    },
    {
      "metadata": {
        "id": "l-KhdRgm7VYL",
        "colab_type": "code",
        "colab": {}
      },
      "cell_type": "code",
      "source": [
        "import cv2\n",
        "import numpy as np\n",
        "import matplotlib.pyplot as plt\n",
        "\n",
        "\n",
        "full_image=cv2.imread(r'C:\\Users\\kvish\\Pictures\\dog.jpg')\n",
        "\n",
        "full_image=cv2.cvtColor(full_image,cv2.COLOR_BGR2RGB)\n",
        "\n",
        "plt.imshow(full_image)\n",
        "\n",
        "\n",
        "face=full_image[20:80,150:220]\n",
        "\n",
        "\"\"\"Here we have a image of dog and its part of an image face where we can search that that face of dog in the goven \n",
        "Image and draw rectangel to highlight it\n",
        "\n",
        "There are different methods available for template matching based on type of comparision of the template\n",
        "so use Eval funtion to loop thorugh the list of those matching methods\n",
        "\n",
        "\"\"\"\n",
        "\n",
        "Methods=[\"cv2.TM_CCOEFF\",\"cv2.TM_CCOEFF_NORMED\",\"cv2.TM_CCORR\",\"cv2.TM_CCORR_NORMED\",\"cv2.TM_SQDIFF\",\n",
        "         \"cv2.TM_SQDIFF_NORMED\"]\n",
        "\n",
        "\n",
        "\n",
        "for metd in Methods:\n",
        "    full_copy=full_image.copy()\n",
        "    my_meth=eval(metd)\n",
        "    res=cv2.matchTemplate(full_image,face,my_meth)\n",
        "    min_val,max_val,min_loc,max_loc=cv2.minMaxLoc(res)\n",
        "    \n",
        "    if metd in [cv2.TM_SQDIFF,cv2.TM_SQDIFF_NORMED]:\n",
        "        top_left_corner=min_loc\n",
        "    else:\n",
        "        top_left_corner=max_loc\n",
        "    \n",
        "    height,width,chann=face.shape\n",
        "    \n",
        "    bottom_right_corner=(top_left_corner[0]+width,top_left_corner[1]+height)\n",
        "    cv2.rectangle(full_copy,top_left_corner,bottom_right_corner,(255,0,0),5)\n",
        "    #plot the images\n",
        "    \n",
        "    plt.subplot(121)\n",
        "    plt.imshow(res)\n",
        "    plt.title(\"heat_map\")\n",
        "    plt.subplot(122)\n",
        "    plt.imshow(full_copy)\n",
        "    plt.title(\"detection of title\")\n",
        "    plt.suptitle(metd)\n",
        "    plt.show()\n",
        "    \n",
        "    print(\"\\n\")\n",
        "    \n",
        "    print(\"\\n\")\n",
        "    \n",
        "    "
      ],
      "execution_count": 0,
      "outputs": []
    },
    {
      "metadata": {
        "id": "kKV1Ul-N7Ykm",
        "colab_type": "code",
        "colab": {}
      },
      "cell_type": "code",
      "source": [
        ""
      ],
      "execution_count": 0,
      "outputs": []
    },
    {
      "metadata": {
        "id": "uG-37iIQ7Ws-",
        "colab_type": "text"
      },
      "cell_type": "markdown",
      "source": [
        ""
      ]
    }
  ]
}